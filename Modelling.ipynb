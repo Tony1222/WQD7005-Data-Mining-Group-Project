{
  "nbformat": 4,
  "nbformat_minor": 0,
  "metadata": {
    "colab": {
      "provenance": [],
      "mount_file_id": "1IvceHIkrcntwnsw1P1lWejHbyUDf0YGX",
      "authorship_tag": "ABX9TyPovyxAt6f+CFnAwVa/R/06",
      "include_colab_link": true
    },
    "kernelspec": {
      "name": "python3",
      "display_name": "Python 3"
    },
    "language_info": {
      "name": "python"
    }
  },
  "cells": [
    {
      "cell_type": "markdown",
      "metadata": {
        "id": "view-in-github",
        "colab_type": "text"
      },
      "source": [
        "<a href=\"https://colab.research.google.com/github/Tony1222/WQD7005-Data-Mining-Group-Project/blob/main/Modelling.ipynb\" target=\"_parent\"><img src=\"https://colab.research.google.com/assets/colab-badge.svg\" alt=\"Open In Colab\"/></a>"
      ]
    },
    {
      "cell_type": "code",
      "source": [
        "# Import necessary libraries\n",
        "import pandas as pd\n",
        "from sklearn.model_selection import train_test_split\n",
        "from sklearn.linear_model import LogisticRegression\n",
        "from sklearn.tree import DecisionTreeClassifier\n",
        "from sklearn.ensemble import RandomForestClassifier\n",
        "from sklearn.metrics import accuracy_score, precision_score, recall_score, f1_score, confusion_matrix\n",
        "import matplotlib.pyplot as plt\n",
        "\n",
        "# Load the dataset\n",
        "file_path = '/content/drive/My Drive/processed_BHD1.csv'\n",
        "data = pd.read_csv(file_path)\n",
        "\n",
        "# Features and target variable\n",
        "X = data.drop(columns=['address', 'label', 'label_encoded'])\n",
        "y = data['label_encoded']\n",
        "\n",
        "# Split the data\n",
        "X_train, X_test, y_train, y_test = train_test_split(X, y, test_size=0.3, random_state=42)\n",
        "\n",
        "# Initialize the models\n",
        "log_reg = LogisticRegression(max_iter=1000)\n",
        "dec_tree = DecisionTreeClassifier()\n",
        "rand_forest = RandomForestClassifier(n_estimators=100)\n",
        "\n",
        "# Train the models\n",
        "log_reg.fit(X_train, y_train)\n",
        "dec_tree.fit(X_train, y_train)\n",
        "rand_forest.fit(X_train, y_train)\n",
        "\n",
        "# Make predictions\n",
        "log_reg_pred = log_reg.predict(X_test)\n",
        "dec_tree_pred = dec_tree.predict(X_test)\n",
        "rand_forest_pred = rand_forest.predict(X_test)\n",
        "\n",
        "# Show Confusion Matrix\n",
        "print(\"Confusion Matrix: Logistic Regression\\n\", confusion_matrix(y_test, log_reg_pred))\n",
        "print(\"Confusion Matrix: Decision Tree\\n\", confusion_matrix(y_test, dec_tree_pred))\n",
        "print(\"Confusion Matrix: Random Forest\\n\", confusion_matrix(y_test, rand_forest_pred))\n",
        "\n",
        "# Evaluate the models\n",
        "def evaluate_model(y_test, y_pred):\n",
        "    accuracy = accuracy_score(y_test, y_pred)\n",
        "    precision = precision_score(y_test, y_pred, average='weighted')\n",
        "    recall = recall_score(y_test, y_pred, average='weighted')\n",
        "    f1 = f1_score(y_test, y_pred, average='weighted')\n",
        "    return accuracy, precision, recall, f1\n",
        "\n",
        "log_reg_metrics = evaluate_model(y_test, log_reg_pred)\n",
        "dec_tree_metrics = evaluate_model(y_test, dec_tree_pred)\n",
        "rand_forest_metrics = evaluate_model(y_test, rand_forest_pred)\n",
        "\n",
        "\n",
        "# Print the metrics\n",
        "print(f\"Logistic Regression: Accuracy = {log_reg_metrics[0]}, Precision = {log_reg_metrics[1]}, Recall = {log_reg_metrics[2]}, F1-score = {log_reg_metrics[3]}\")\n",
        "print(f\"Decision Tree: Accuracy = {dec_tree_metrics[0]}, Precision = {dec_tree_metrics[1]}, Recall = {dec_tree_metrics[2]}, F1-score = {dec_tree_metrics[3]}\")\n",
        "print(f\"Random Forest: Accuracy = {rand_forest_metrics[0]}, Precision = {rand_forest_metrics[1]}, Recall = {rand_forest_metrics[2]}, F1-score = {rand_forest_metrics[3]}\")\n",
        "\n",
        "# Define the metrics and model names\n",
        "metrics = ['Accuracy', 'Precision', 'Recall', 'F1-score']\n",
        "models = ['Logistic Regression', 'Decision Tree', 'Random Forest']\n",
        "log_reg_scores = [log_reg_metrics[0], log_reg_metrics[1], log_reg_metrics[2], log_reg_metrics[3]]\n",
        "dec_tree_scores = [dec_tree_metrics[0], dec_tree_metrics[1], dec_tree_metrics[2], dec_tree_metrics[3]]\n",
        "rand_forest_scores = [rand_forest_metrics[0], rand_forest_metrics[1], rand_forest_metrics[2], rand_forest_metrics[3]]\n",
        "\n",
        "# Plot the metrics\n",
        "x = range(len(metrics))\n",
        "width = 0.2\n",
        "\n",
        "fig, ax = plt.subplots()\n",
        "ax.bar(x, log_reg_scores, width, label='Logistic Regression')\n",
        "ax.bar([p + width for p in x], dec_tree_scores, width, label='Decision Tree')\n",
        "ax.bar([p + width * 2 for p in x], rand_forest_scores, width, label='Random Forest')\n",
        "\n",
        "# Set the labels and title\n",
        "ax.set_xlabel('Metrics')\n",
        "ax.set_ylabel('Scores')\n",
        "ax.set_title('Comparison of Model Performance')\n",
        "ax.set_xticks([p + width for p in x])\n",
        "ax.set_xticklabels(metrics)\n",
        "ax.legend()\n",
        "\n",
        "# Show the plot\n",
        "plt.show()\n"
      ],
      "metadata": {
        "colab": {
          "base_uri": "https://localhost:8080/",
          "height": 1000
        },
        "id": "_O3Pd1qDQHhS",
        "outputId": "6bb8152b-24bc-4aeb-e5e5-03c1c75cfee9"
      },
      "execution_count": 5,
      "outputs": [
        {
          "output_type": "stream",
          "name": "stdout",
          "text": [
            "Confusion Matrix: Logistic Regression\n",
            " [[117   0   0   0   0   0   0   0]\n",
            " [  1   0   0   0   0   0   0   0]\n",
            " [ 32   0   0   0   0   0   0   0]\n",
            " [  2   0   0   0   0   0   0   0]\n",
            " [  3   0   0   0   0   0   0   0]\n",
            " [107   0   0   0   0   0   0   0]\n",
            " [111   0   0   0   0   0   0   0]\n",
            " [ 77   0   0   0   0   0   0   0]]\n",
            "Confusion Matrix: Decision Tree\n",
            " [[117   0   0   0   0   0   0   0]\n",
            " [  0   0   0   0   0   1   0   0]\n",
            " [  0   0  28   0   1   0   0   3]\n",
            " [  0   0   0   1   0   0   0   1]\n",
            " [  0   0   0   0   2   0   1   0]\n",
            " [  0   1   0   0   0 106   0   0]\n",
            " [  0   0   4   0   0   0 103   4]\n",
            " [  0   0   0   1   0   0   3  73]]\n",
            "Confusion Matrix: Random Forest\n",
            " [[116   0   0   0   0   1   0   0]\n",
            " [  0   0   0   0   0   1   0   0]\n",
            " [  0   0  29   0   0   0   0   3]\n",
            " [  0   0   0   1   0   0   0   1]\n",
            " [  0   0   0   0   2   0   1   0]\n",
            " [  0   0   0   0   0 107   0   0]\n",
            " [  0   0   1   0   0   0 107   3]\n",
            " [  0   0   0   0   0   0   3  74]]\n",
            "Logistic Regression: Accuracy = 0.26, Precision = 0.06760000000000001, Recall = 0.26, F1-score = 0.10730158730158731\n",
            "Decision Tree: Accuracy = 0.9555555555555556, Precision = 0.9561011755958103, Recall = 0.9555555555555556, F1-score = 0.9556484599801288\n",
            "Random Forest: Accuracy = 0.9688888888888889, Precision = 0.9673682435408565, Recall = 0.9688888888888889, F1-score = 0.9673389173762101\n"
          ]
        },
        {
          "output_type": "stream",
          "name": "stderr",
          "text": [
            "/usr/local/lib/python3.10/dist-packages/sklearn/metrics/_classification.py:1344: UndefinedMetricWarning: Precision is ill-defined and being set to 0.0 in labels with no predicted samples. Use `zero_division` parameter to control this behavior.\n",
            "  _warn_prf(average, modifier, msg_start, len(result))\n",
            "/usr/local/lib/python3.10/dist-packages/sklearn/metrics/_classification.py:1344: UndefinedMetricWarning: Precision is ill-defined and being set to 0.0 in labels with no predicted samples. Use `zero_division` parameter to control this behavior.\n",
            "  _warn_prf(average, modifier, msg_start, len(result))\n"
          ]
        },
        {
          "output_type": "display_data",
          "data": {
            "text/plain": [
              "<Figure size 640x480 with 1 Axes>"
            ],
            "image/png": "[encoded data removed]"
          },
          "metadata": {}
        }
      ]
    },
    {
      "cell_type": "code",
      "source": [
        "from google.colab import drive\n",
        "drive.mount('/content/drive')"
      ],
      "metadata": {
        "colab": {
          "base_uri": "https://localhost:8080/"
        },
        "id": "Oizf_gpBQK4a",
        "outputId": "238a0220-ecb3-464c-9d1c-45783cf8a4e5"
      },
      "execution_count": 1,
      "outputs": [
        {
          "output_type": "stream",
          "name": "stdout",
          "text": [
            "Mounted at /content/drive\n"
          ]
        }
      ]
    },
    {
      "cell_type": "code",
      "source": [
        "# Save the model to a file\n",
        "joblib.dump(rand_forest, '/content/drive/My Drive/random_forest_model.pkl')  # Update this path to your desired location"
      ],
      "metadata": {
        "colab": {
          "base_uri": "https://localhost:8080/"
        },
        "id": "bXv2pr7zTC3x",
        "outputId": "af6ab7d6-c430-4839-f448-fed430658ddb"
      },
      "execution_count": 6,
      "outputs": [
        {
          "output_type": "execute_result",
          "data": {
            "text/plain": [
              "['/content/drive/My Drive/random_forest_model.pkl']"
            ]
          },
          "metadata": {},
          "execution_count": 6
        }
      ]
    },
    {
      "cell_type": "code",
      "source": [
        "!pip install streamlit"
      ],
      "metadata": {
        "colab": {
          "base_uri": "https://localhost:8080/"
        },
        "id": "R-Wo6EnRT2Ws",
        "outputId": "df608728-2b36-4a53-8592-098bcc6ae38a"
      },
      "execution_count": 8,
      "outputs": [
        {
          "output_type": "stream",
          "name": "stdout",
          "text": [
            "Collecting streamlit\n",
            "  Downloading streamlit-1.35.0-py2.py3-none-any.whl (8.6 MB)\n",
            "\u001b[2K     \u001b[90m━━━━━━━━━━━━━━━━━━━━━━━━━━━━━━━━━━━━━━━━\u001b[0m \u001b[32m8.6/8.6 MB\u001b[0m \u001b[31m26.5 MB/s\u001b[0m eta \u001b[36m0:00:00\u001b[0m\n",
            "\u001b[?25hRequirement already satisfied: altair<6,>=4.0 in /usr/local/lib/python3.10/dist-packages (from streamlit) (4.2.2)\n",
            "Requirement already satisfied: blinker<2,>=1.0.0 in /usr/lib/python3/dist-packages (from streamlit) (1.4)\n",
            "Requirement already satisfied: cachetools<6,>=4.0 in /usr/local/lib/python3.10/dist-packages (from streamlit) (5.3.3)\n",
            "Requirement already satisfied: click<9,>=7.0 in /usr/local/lib/python3.10/dist-packages (from streamlit) (8.1.7)\n",
            "Requirement already satisfied: numpy<2,>=1.19.3 in /usr/local/lib/python3.10/dist-packages (from streamlit) (1.25.2)\n",
            "Requirement already satisfied: packaging<25,>=16.8 in /usr/local/lib/python3.10/dist-packages (from streamlit) (24.0)\n",
            "Requirement already satisfied: pandas<3,>=1.3.0 in /usr/local/lib/python3.10/dist-packages (from streamlit) (2.0.3)\n",
            "Requirement already satisfied: pillow<11,>=7.1.0 in /usr/local/lib/python3.10/dist-packages (from streamlit) (9.4.0)\n",
            "Requirement already satisfied: protobuf<5,>=3.20 in /usr/local/lib/python3.10/dist-packages (from streamlit) (3.20.3)\n",
            "Requirement already satisfied: pyarrow>=7.0 in /usr/local/lib/python3.10/dist-packages (from streamlit) (14.0.2)\n",
            "Requirement already satisfied: requests<3,>=2.27 in /usr/local/lib/python3.10/dist-packages (from streamlit) (2.31.0)\n",
            "Requirement already satisfied: rich<14,>=10.14.0 in /usr/local/lib/python3.10/dist-packages (from streamlit) (13.7.1)\n",
            "Requirement already satisfied: tenacity<9,>=8.1.0 in /usr/local/lib/python3.10/dist-packages (from streamlit) (8.3.0)\n",
            "Requirement already satisfied: toml<2,>=0.10.1 in /usr/local/lib/python3.10/dist-packages (from streamlit) (0.10.2)\n",
            "Requirement already satisfied: typing-extensions<5,>=4.3.0 in /usr/local/lib/python3.10/dist-packages (from streamlit) (4.11.0)\n",
            "Collecting gitpython!=3.1.19,<4,>=3.0.7 (from streamlit)\n",
            "  Downloading GitPython-3.1.43-py3-none-any.whl (207 kB)\n",
            "\u001b[2K     \u001b[90m━━━━━━━━━━━━━━━━━━━━━━━━━━━━━━━━━━━━━━━━\u001b[0m \u001b[32m207.3/207.3 kB\u001b[0m \u001b[31m17.5 MB/s\u001b[0m eta \u001b[36m0:00:00\u001b[0m\n",
            "\u001b[?25hCollecting pydeck<1,>=0.8.0b4 (from streamlit)\n",
            "  Downloading pydeck-0.9.1-py2.py3-none-any.whl (6.9 MB)\n",
            "\u001b[2K     \u001b[90m━━━━━━━━━━━━━━━━━━━━━━━━━━━━━━━━━━━━━━━━\u001b[0m \u001b[32m6.9/6.9 MB\u001b[0m \u001b[31m64.9 MB/s\u001b[0m eta \u001b[36m0:00:00\u001b[0m\n",
            "\u001b[?25hRequirement already satisfied: tornado<7,>=6.0.3 in /usr/local/lib/python3.10/dist-packages (from streamlit) (6.3.3)\n",
            "Collecting watchdog>=2.1.5 (from streamlit)\n",
            "  Downloading watchdog-4.0.1-py3-none-manylinux2014_x86_64.whl (83 kB)\n",
            "\u001b[2K     \u001b[90m━━━━━━━━━━━━━━━━━━━━━━━━━━━━━━━━━━━━━━━━\u001b[0m \u001b[32m83.0/83.0 kB\u001b[0m \u001b[31m9.5 MB/s\u001b[0m eta \u001b[36m0:00:00\u001b[0m\n",
            "\u001b[?25hRequirement already satisfied: entrypoints in /usr/local/lib/python3.10/dist-packages (from altair<6,>=4.0->streamlit) (0.4)\n",
            "Requirement already satisfied: jinja2 in /usr/local/lib/python3.10/dist-packages (from altair<6,>=4.0->streamlit) (3.1.4)\n",
            "Requirement already satisfied: jsonschema>=3.0 in /usr/local/lib/python3.10/dist-packages (from altair<6,>=4.0->streamlit) (4.19.2)\n",
            "Requirement already satisfied: toolz in /usr/local/lib/python3.10/dist-packages (from altair<6,>=4.0->streamlit) (0.12.1)\n",
            "Collecting gitdb<5,>=4.0.1 (from gitpython!=3.1.19,<4,>=3.0.7->streamlit)\n",
            "  Downloading gitdb-4.0.11-py3-none-any.whl (62 kB)\n",
            "\u001b[2K     \u001b[90m━━━━━━━━━━━━━━━━━━━━━━━━━━━━━━━━━━━━━━━━\u001b[0m \u001b[32m62.7/62.7 kB\u001b[0m \u001b[31m6.2 MB/s\u001b[0m eta \u001b[36m0:00:00\u001b[0m\n",
            "\u001b[?25hRequirement already satisfied: python-dateutil>=2.8.2 in /usr/local/lib/python3.10/dist-packages (from pandas<3,>=1.3.0->streamlit) (2.8.2)\n",
            "Requirement already satisfied: pytz>=2020.1 in /usr/local/lib/python3.10/dist-packages (from pandas<3,>=1.3.0->streamlit) (2023.4)\n",
            "Requirement already satisfied: tzdata>=2022.1 in /usr/local/lib/python3.10/dist-packages (from pandas<3,>=1.3.0->streamlit) (2024.1)\n",
            "Requirement already satisfied: charset-normalizer<4,>=2 in /usr/local/lib/python3.10/dist-packages (from requests<3,>=2.27->streamlit) (3.3.2)\n",
            "Requirement already satisfied: idna<4,>=2.5 in /usr/local/lib/python3.10/dist-packages (from requests<3,>=2.27->streamlit) (3.7)\n",
            "Requirement already satisfied: urllib3<3,>=1.21.1 in /usr/local/lib/python3.10/dist-packages (from requests<3,>=2.27->streamlit) (2.0.7)\n",
            "Requirement already satisfied: certifi>=2017.4.17 in /usr/local/lib/python3.10/dist-packages (from requests<3,>=2.27->streamlit) (2024.2.2)\n",
            "Requirement already satisfied: markdown-it-py>=2.2.0 in /usr/local/lib/python3.10/dist-packages (from rich<14,>=10.14.0->streamlit) (3.0.0)\n",
            "Requirement already satisfied: pygments<3.0.0,>=2.13.0 in /usr/local/lib/python3.10/dist-packages (from rich<14,>=10.14.0->streamlit) (2.16.1)\n",
            "Collecting smmap<6,>=3.0.1 (from gitdb<5,>=4.0.1->gitpython!=3.1.19,<4,>=3.0.7->streamlit)\n",
            "  Downloading smmap-5.0.1-py3-none-any.whl (24 kB)\n",
            "Requirement already satisfied: MarkupSafe>=2.0 in /usr/local/lib/python3.10/dist-packages (from jinja2->altair<6,>=4.0->streamlit) (2.1.5)\n",
            "Requirement already satisfied: attrs>=22.2.0 in /usr/local/lib/python3.10/dist-packages (from jsonschema>=3.0->altair<6,>=4.0->streamlit) (23.2.0)\n",
            "Requirement already satisfied: jsonschema-specifications>=2023.03.6 in /usr/local/lib/python3.10/dist-packages (from jsonschema>=3.0->altair<6,>=4.0->streamlit) (2023.12.1)\n",
            "Requirement already satisfied: referencing>=0.28.4 in /usr/local/lib/python3.10/dist-packages (from jsonschema>=3.0->altair<6,>=4.0->streamlit) (0.35.1)\n",
            "Requirement already satisfied: rpds-py>=0.7.1 in /usr/local/lib/python3.10/dist-packages (from jsonschema>=3.0->altair<6,>=4.0->streamlit) (0.18.1)\n",
            "Requirement already satisfied: mdurl~=0.1 in /usr/local/lib/python3.10/dist-packages (from markdown-it-py>=2.2.0->rich<14,>=10.14.0->streamlit) (0.1.2)\n",
            "Requirement already satisfied: six>=1.5 in /usr/local/lib/python3.10/dist-packages (from python-dateutil>=2.8.2->pandas<3,>=1.3.0->streamlit) (1.16.0)\n",
            "Installing collected packages: watchdog, smmap, pydeck, gitdb, gitpython, streamlit\n",
            "Successfully installed gitdb-4.0.11 gitpython-3.1.43 pydeck-0.9.1 smmap-5.0.1 streamlit-1.35.0 watchdog-4.0.1\n"
          ]
        }
      ]
    },
    {
      "cell_type": "code",
      "source": [
        "%cd /content/drive/My Drive\n",
        "\n"
      ],
      "metadata": {
        "colab": {
          "base_uri": "https://localhost:8080/"
        },
        "id": "eHtdQNccVkh6",
        "outputId": "dbda09cf-b7e0-4312-9437-ebc651cc6da0"
      },
      "execution_count": 11,
      "outputs": [
        {
          "output_type": "stream",
          "name": "stdout",
          "text": [
            "/content/drive/My Drive\n"
          ]
        }
      ]
    },
    {
      "cell_type": "code",
      "source": [
        "%%writefile app.py\n",
        "import streamlit as st\n",
        "import pandas as pd\n",
        "import joblib\n",
        "\n",
        "# Load the trained model from the specified path\n",
        "model_path = 'random_forest_model.pkl'  # Update this path to your model's location if necessary\n",
        "model = joblib.load(model_path)\n",
        "\n",
        "# Title\n",
        "st.title(\"Bitcoin Transaction Fraud Detection\")\n",
        "\n",
        "# Upload CSV data\n",
        "uploaded_file = st.file_uploader(\"Choose a file\")\n",
        "\n",
        "if uploaded_file is not None:\n",
        "    data = pd.read_csv(uploaded_file)\n",
        "    st.write(\"Data uploaded successfully!\")\n",
        "\n",
        "    # Assuming 'label_encoded' is the column with labels, dropping it for prediction\n",
        "    if 'label_encoded' in data.columns:\n",
        "        data = data.drop('label_encoded', axis=1)\n",
        "\n",
        "    predictions = model.predict(data)\n",
        "\n",
        "    st.write(\"Predictions:\")\n",
        "    st.write(predictions)\n"
      ],
      "metadata": {
        "colab": {
          "base_uri": "https://localhost:8080/"
        },
        "id": "94jlJuLTVnx6",
        "outputId": "4648c200-34cc-44ea-a9cc-3c9305c1037f"
      },
      "execution_count": 12,
      "outputs": [
        {
          "output_type": "stream",
          "name": "stdout",
          "text": [
            "Overwriting app.py\n"
          ]
        }
      ]
    },
    {
      "cell_type": "code",
      "source": [
        "import pandas as pd\n",
        "from sklearn.ensemble import RandomForestClassifier\n",
        "import joblib\n",
        "from sklearn.model_selection import train_test_split\n",
        "from sklearn.metrics import classification_report, accuracy_score, confusion_matrix\n",
        "import matplotlib.pyplot as plt\n",
        "\n",
        "# Specify the path to your file\n",
        "file_path = '/content/drive/My Drive/processed_BHD1.csv'\n",
        "\n",
        "# Load the dataset\n",
        "df = pd.read_csv(file_path)\n",
        "\n",
        "# Display the first few rows of the dataframe to verify the data\n",
        "print(df.head())\n",
        "\n",
        "# Set the target column\n",
        "target_column = 'label_encoded'\n",
        "\n",
        "# Drop irrelevant columns\n",
        "df = df.drop(['address', 'label'], axis=1)\n",
        "\n",
        "# Features and target\n",
        "X = df.drop(target_column, axis=1)\n",
        "y = df[target_column]\n",
        "\n",
        "# Split the data\n",
        "X_train, X_test, y_train, y_test = train_test_split(X, y, test_size=0.2, random_state=42)\n",
        "\n",
        "# Train the Random Forest model\n",
        "model = RandomForestClassifier(n_estimators=100, random_state=42)\n",
        "model.fit(X_train, y_train)\n",
        "\n",
        "# Predict and evaluate\n",
        "y_pred = model.predict(X_test)\n",
        "\n",
        "print(\"Accuracy:\", accuracy_score(y_test, y_pred))\n",
        "print(\"Confusion Matrix:\\n\", confusion_matrix(y_test, y_pred))\n",
        "print(\"Classification Report:\\n\", classification_report(y_test, y_pred))\n",
        "\n",
        "# Save the model to a file\n",
        "joblib.dump(model, 'random_forest_model.pkl')\n",
        "\n",
        "# Example plot\n",
        "plt.plot([1, 2, 3, 4], [1, 4, 9, 16])\n",
        "plt.title(\"Sample Plot\")\n",
        "plt.xlabel(\"x-axis\")\n",
        "plt.ylabel(\"y-axis\")\n",
        "plt.show()\n"
      ],
      "metadata": {
        "colab": {
          "base_uri": "https://localhost:8080/",
          "height": 1000
        },
        "id": "wnwlxlJzk_AC",
        "outputId": "1dced9c9-24a8-40bb-dd33-3a4ed167cd05"
      },
      "execution_count": 14,
      "outputs": [
        {
          "output_type": "stream",
          "name": "stdout",
          "text": [
            "                              address  year  day  length    weight  count  \\\n",
            "0   111K8kZAEnJg245r2cM6y9zgJGHZtJPy6  2017   11      18  0.008333    1.0   \n",
            "1  1123pJv8jzeFQaCV4w644pzQJzVWay2zcA  2016  132      44  0.000244    1.0   \n",
            "2  112536im7hy6wtKbpH1qYDWtTyMRAcA2p7  2016  246       0  1.000000    1.0   \n",
            "3  1126eDRw2wqSkWosjTCre8cjjQW8sSeWH7  2016  322      72  0.003906    1.0   \n",
            "4  1129TSjKtx65E35GiUo4AYVeyo48twbrGX  2016  238     144  0.072848  456.0   \n",
            "\n",
            "   looped  neighbors       income            label  weight_binary  \\\n",
            "0     0.0        2.0  100050000.0  princetoncerber              0   \n",
            "1     0.0        1.0  100000000.0   princetonlocky              0   \n",
            "2     0.0        2.0  200000000.0  princetoncerber              0   \n",
            "3     0.0        2.0   71200000.0  princetoncerber              0   \n",
            "4     0.0        1.0  200000000.0   princetonlocky              0   \n",
            "\n",
            "   label_encoded  \n",
            "0              8  \n",
            "1              9  \n",
            "2              8  \n",
            "3              8  \n",
            "4              9  \n",
            "Accuracy: 0.97\n",
            "Confusion Matrix:\n",
            " [[79  0  0  0  0  1  0  0]\n",
            " [ 0  0  0  0  0  1  0  0]\n",
            " [ 0  0 16  0  0  0  0  3]\n",
            " [ 0  0  0  1  0  0  0  1]\n",
            " [ 0  0  0  0  2  0  1  0]\n",
            " [ 0  0  0  0  0 74  0  0]\n",
            " [ 0  0  0  0  0  0 72  1]\n",
            " [ 0  0  0  0  0  0  1 47]]\n",
            "Classification Report:\n",
            "               precision    recall  f1-score   support\n",
            "\n",
            "           0       1.00      0.99      0.99        80\n",
            "           1       0.00      0.00      0.00         1\n",
            "           2       1.00      0.84      0.91        19\n",
            "           3       1.00      0.50      0.67         2\n",
            "           6       1.00      0.67      0.80         3\n",
            "           7       0.97      1.00      0.99        74\n",
            "           8       0.97      0.99      0.98        73\n",
            "           9       0.90      0.98      0.94        48\n",
            "\n",
            "    accuracy                           0.97       300\n",
            "   macro avg       0.86      0.75      0.79       300\n",
            "weighted avg       0.97      0.97      0.97       300\n",
            "\n"
          ]
        },
        {
          "output_type": "stream",
          "name": "stderr",
          "text": [
            "/usr/local/lib/python3.10/dist-packages/sklearn/metrics/_classification.py:1344: UndefinedMetricWarning: Precision and F-score are ill-defined and being set to 0.0 in labels with no predicted samples. Use `zero_division` parameter to control this behavior.\n",
            "  _warn_prf(average, modifier, msg_start, len(result))\n",
            "/usr/local/lib/python3.10/dist-packages/sklearn/metrics/_classification.py:1344: UndefinedMetricWarning: Precision and F-score are ill-defined and being set to 0.0 in labels with no predicted samples. Use `zero_division` parameter to control this behavior.\n",
            "  _warn_prf(average, modifier, msg_start, len(result))\n",
            "/usr/local/lib/python3.10/dist-packages/sklearn/metrics/_classification.py:1344: UndefinedMetricWarning: Precision and F-score are ill-defined and being set to 0.0 in labels with no predicted samples. Use `zero_division` parameter to control this behavior.\n",
            "  _warn_prf(average, modifier, msg_start, len(result))\n"
          ]
        },
        {
          "output_type": "display_data",
          "data": {
            "text/plain": [
              "<Figure size 640x480 with 1 Axes>"
            ],
            "image/png": "[encoded data removed]"
          },
          "metadata": {}
        }
      ]
    }
  ]
}